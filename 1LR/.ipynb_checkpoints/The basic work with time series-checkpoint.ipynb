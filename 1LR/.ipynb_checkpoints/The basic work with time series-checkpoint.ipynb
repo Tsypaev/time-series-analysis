{
 "cells": [
  {
   "cell_type": "markdown",
   "metadata": {},
   "source": [
    "# Цыпаев Владимир Николаевич\n",
    "\n",
    "# Лабораторная работа №1\n",
    "\n",
    "# 11 вариант\n",
    "\n",
    "# РИМ-181228"
   ]
  },
  {
   "cell_type": "markdown",
   "metadata": {},
   "source": [
    "1) Импорт библиотек"
   ]
  },
  {
   "cell_type": "code",
   "execution_count": 39,
   "metadata": {},
   "outputs": [],
   "source": [
    "import numpy as np\n",
    "import numpy.random as rand\n",
    "import matplotlib.pyplot as plt\n",
    "from pandas.tools.plotting import autocorrelation_plot\n",
    "from statsmodels.graphics.tsaplots import plot_acf\n",
    "import h5py\n",
    "from scipy.stats import skew \n",
    "from scipy.stats import kurtosis\n",
    "%matplotlib inline"
   ]
  },
  {
   "cell_type": "markdown",
   "metadata": {},
   "source": [
    "2) Создание временного ряда"
   ]
  },
  {
   "cell_type": "code",
   "execution_count": 40,
   "metadata": {},
   "outputs": [],
   "source": [
    "X = rand.randn(10000)"
   ]
  },
  {
   "cell_type": "markdown",
   "metadata": {},
   "source": [
    "3) Создание ряда временных отсчетов"
   ]
  },
  {
   "cell_type": "code",
   "execution_count": 41,
   "metadata": {},
   "outputs": [],
   "source": [
    "t = np.linspace(3, 5, num = 10000)"
   ]
  },
  {
   "cell_type": "markdown",
   "metadata": {},
   "source": [
    "4) Построение времененного ряда на заданной временной сетке"
   ]
  },
  {
   "cell_type": "code",
   "execution_count": 42,
   "metadata": {},
   "outputs": [
    {
     "data": {
      "text/plain": [
       "[<matplotlib.lines.Line2D at 0x26833e0e438>]"
      ]
     },
     "execution_count": 42,
     "metadata": {},
     "output_type": "execute_result"
    },
    {
     "data": {
      "image/png": "[encoded data removed]",
      "text/plain": [
       "<matplotlib.figure.Figure at 0x26833d6c550>"
      ]
     },
     "metadata": {},
     "output_type": "display_data"
    }
   ],
   "source": [
    "plt.figure(figsize = (10, 5))\n",
    "plt.plot(t, X)"
   ]
  },
  {
   "cell_type": "markdown",
   "metadata": {},
   "source": [
    "5-6) Найти мат. ожидание временного ряда"
   ]
  },
  {
   "cell_type": "code",
   "execution_count": 43,
   "metadata": {},
   "outputs": [],
   "source": [
    "M = np.mean(X)"
   ]
  },
  {
   "cell_type": "code",
   "execution_count": 44,
   "metadata": {},
   "outputs": [],
   "source": [
    "def mean(X): \n",
    "    return sum(X) / len(X)"
   ]
  },
  {
   "cell_type": "code",
   "execution_count": 45,
   "metadata": {},
   "outputs": [
    {
     "name": "stdout",
     "output_type": "stream",
     "text": [
      "0.009961078020095954\n",
      "0.009961078020095937\n"
     ]
    }
   ],
   "source": [
    "print(M)\n",
    "print(mean(X))"
   ]
  },
  {
   "cell_type": "markdown",
   "metadata": {},
   "source": [
    "7) Найти дисперсию временного ряда"
   ]
  },
  {
   "cell_type": "code",
   "execution_count": 46,
   "metadata": {},
   "outputs": [],
   "source": [
    "D = np.var(X)"
   ]
  },
  {
   "cell_type": "code",
   "execution_count": 47,
   "metadata": {},
   "outputs": [],
   "source": [
    "def varience(X):\n",
    "    return (1 / (len(X)-1)) * sum((X-M)**2)"
   ]
  },
  {
   "cell_type": "code",
   "execution_count": 48,
   "metadata": {},
   "outputs": [
    {
     "name": "stdout",
     "output_type": "stream",
     "text": [
      "0.9799120460906735\n",
      "0.9800100470953839\n"
     ]
    }
   ],
   "source": [
    "print(D)\n",
    "print(varience(X))"
   ]
  },
  {
   "cell_type": "markdown",
   "metadata": {},
   "source": [
    "8) Нахождение ассимметрии временного ряда"
   ]
  },
  {
   "cell_type": "code",
   "execution_count": 49,
   "metadata": {},
   "outputs": [],
   "source": [
    "A = skew(X)"
   ]
  },
  {
   "cell_type": "code",
   "execution_count": 50,
   "metadata": {},
   "outputs": [],
   "source": [
    "def skewFunc(X):\n",
    "    M = mean(X)\n",
    "    D = varience(X)\n",
    "    return np.mean((X-M)**3) / D**(3/2)"
   ]
  },
  {
   "cell_type": "code",
   "execution_count": 51,
   "metadata": {},
   "outputs": [
    {
     "name": "stdout",
     "output_type": "stream",
     "text": [
      "-0.04535126330266141\n",
      "-0.045344460783235854\n"
     ]
    }
   ],
   "source": [
    "print(A)\n",
    "print(skewFunc(X))"
   ]
  },
  {
   "cell_type": "markdown",
   "metadata": {},
   "source": [
    "9) Нахождение эксцесса временного ряда"
   ]
  },
  {
   "cell_type": "code",
   "execution_count": 52,
   "metadata": {},
   "outputs": [],
   "source": [
    "K = kurtosis(X ,fisher = False)"
   ]
  },
  {
   "cell_type": "code",
   "execution_count": 53,
   "metadata": {},
   "outputs": [],
   "source": [
    "def kurtosisFunc(X):\n",
    "    M = mean(X)\n",
    "    D = varience(X)\n",
    "    return np.mean((X-M)**4) / (D**2)"
   ]
  },
  {
   "cell_type": "code",
   "execution_count": 54,
   "metadata": {},
   "outputs": [
    {
     "name": "stdout",
     "output_type": "stream",
     "text": [
      "2.998749858167937\n",
      "2.9981501381837976\n"
     ]
    }
   ],
   "source": [
    "print(K)\n",
    "print(kurtosisFunc(X))"
   ]
  },
  {
   "cell_type": "markdown",
   "metadata": {},
   "source": [
    "10) Построение оценки выборочной автокорреляции"
   ]
  },
  {
   "cell_type": "code",
   "execution_count": 55,
   "metadata": {},
   "outputs": [
    {
     "data": {
      "image/png": "[encoded data removed]",
      "text/plain": [
       "<matplotlib.figure.Figure at 0x26833da7b70>"
      ]
     },
     "metadata": {},
     "output_type": "display_data"
    }
   ],
   "source": [
    "corr_function = plot_acf(X[0:80], lags = 20)"
   ]
  },
  {
   "cell_type": "code",
   "execution_count": 57,
   "metadata": {},
   "outputs": [
    {
     "data": {
      "image/png": "[encoded data removed]",
      "text/plain": [
       "<matplotlib.figure.Figure at 0x26833e81da0>"
      ]
     },
     "metadata": {},
     "output_type": "display_data"
    }
   ],
   "source": [
    "corr_numpy = np.correlate(X[0:80], X[0:80], mode=2)\n",
    "plt.stem(corr_numpy[79:100])\n",
    "plt.show()"
   ]
  },
  {
   "cell_type": "code",
   "execution_count": 61,
   "metadata": {},
   "outputs": [],
   "source": [
    "def corrFunc(X, lags = 0):\n",
    "    corr = np.ndarray(lags + 1)\n",
    "    corr[0] = 1\n",
    "    X1 = X[0:lags*4] # l <= N/4\n",
    "    for l in range(1,lags + 1):\n",
    "        corr[l] = (((len(X1)- l) * sum(X1[:-l] * X1[l:]) - sum(X1[:-l])*sum(X1[l:])) / \n",
    "                (((len(X1)-l)*sum(X1[:-l]**2) - sum(X1[:-l])**2)**(1/2) *\n",
    "                 ((len(X1)-l)*sum(X1[l:]**2) - sum(X1[:-l])**2)**(1/2)))\n",
    "    plt.stem(corr)\n",
    "    plt.title(f'Корреляция при лаге {lags}')\n",
    "    plt.show()"
   ]
  },
  {
   "cell_type": "code",
   "execution_count": 62,
   "metadata": {},
   "outputs": [
    {
     "data": {
      "image/png": "[encoded data removed]",
      "text/plain": [
       "<matplotlib.figure.Figure at 0x26833f34860>"
      ]
     },
     "metadata": {},
     "output_type": "display_data"
    }
   ],
   "source": [
    "corr_custom = corrFunc(X, 20)"
   ]
  },
  {
   "cell_type": "code",
   "execution_count": 65,
   "metadata": {},
   "outputs": [],
   "source": [
    "def analyse_time_series(X, p = False):\n",
    "    t = np.linspace(3, 5, X.size)\n",
    "    plt.plot(t, X)\n",
    "    plt.title('Исходная функция')\n",
    "    plt.show()\n",
    "    M = mean(X)\n",
    "    D = varience(X)\n",
    "    A = skewFunc(X)\n",
    "    E = kurtosisFunc(X)\n",
    "    print(f'Мат. ожидание: {M}')\n",
    "    print(f'Дисперсия: {D}')\n",
    "    print(f'Ассимметрия: {A}')\n",
    "    print(f'Эксцесс: {E}')\n",
    "    corrFunc(X, 20)\n",
    "    if not p:\n",
    "        return M, D, A, E"
   ]
  },
  {
   "cell_type": "code",
   "execution_count": null,
   "metadata": {},
   "outputs": [],
   "source": [
    "analyse_time_series(X)"
   ]
  },
  {
   "cell_type": "code",
   "execution_count": null,
   "metadata": {},
   "outputs": [],
   "source": [
    "variant = 11\n",
    "fileName = f'{variant}.mat'\n",
    "columnName = f'z{variant}'\n",
    "\n",
    "Xmat = h5py.File(fileName, 'r')\n",
    "Xmat = Xmat.get(columnName)\n",
    "Xmat = np.array(Xmat)"
   ]
  },
  {
   "cell_type": "code",
   "execution_count": null,
   "metadata": {},
   "outputs": [],
   "source": []
  }
 ],
 "metadata": {
  "kernelspec": {
   "display_name": "Python 3",
   "language": "python",
   "name": "python3"
  }
 },
 "nbformat": 4,
 "nbformat_minor": 2
}
